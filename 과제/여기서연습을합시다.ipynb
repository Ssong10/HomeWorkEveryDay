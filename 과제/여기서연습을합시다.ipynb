{
 "cells": [
  {
   "cell_type": "code",
   "execution_count": 1,
   "metadata": {},
   "outputs": [
    {
     "name": "stdout",
     "output_type": "stream",
     "text": [
      "*****\n",
      "*****\n",
      "*****\n",
      "*****\n",
      "*****\n",
      "*****\n",
      "*****\n",
      "*****\n",
      "*****\n"
     ]
    }
   ],
   "source": [
    "n=5\n",
    "m=9\n",
    "for j in range(m):\n",
    "    for i in range(n):\n",
    "        print('*',end='')\n",
    "    print('')"
   ]
  },
  {
   "cell_type": "code",
   "execution_count": 2,
   "metadata": {},
   "outputs": [
    {
     "data": {
      "text/plain": [
       "87.75"
      ]
     },
     "execution_count": 2,
     "metadata": {},
     "output_type": "execute_result"
    }
   ],
   "source": [
    "student = {'python': 80, 'algorithm': 99, 'django': 89, 'flask': 83}\n",
    "sum(student.values())/len(student)"
   ]
  },
  {
   "cell_type": "code",
   "execution_count": 3,
   "metadata": {},
   "outputs": [
    {
     "name": "stdout",
     "output_type": "stream",
     "text": [
      "{'A': 3, 'B': 3, 'O': 3, 'AB': 3}\n"
     ]
    }
   ],
   "source": [
    "blood_types = ['A', 'B', 'A', 'O', 'AB', 'AB', 'O', 'A', 'B', 'O', 'B', 'AB']\n",
    "\n",
    "blood_dic = {}\n",
    "for i in blood_types:\n",
    "    if i not in blood_dic.keys():\n",
    "        blood_dic[i] = 1\n",
    "    else:\n",
    "        blood_dic[i] += 1\n",
    "print(blood_dic)"
   ]
  },
  {
   "cell_type": "code",
   "execution_count": 4,
   "metadata": {
    "scrolled": true
   },
   "outputs": [
    {
     "name": "stdout",
     "output_type": "stream",
     "text": [
      "[1, 3, 5, 7, 9, 11, 13, 15, 17, 19, 21, 23, 25, 27, 29, 31, 33, 35, 37, 39, 41, 43, 45, 47, 49]\n"
     ]
    }
   ],
   "source": [
    "print(list(range(1,50,2)))"
   ]
  },
  {
   "cell_type": "code",
   "execution_count": null,
   "metadata": {},
   "outputs": [],
   "source": []
  },
  {
   "cell_type": "code",
   "execution_count": 99,
   "metadata": {},
   "outputs": [],
   "source": [
    "def root(num):\n",
    "    result = 1\n",
    "    start = 1\n",
    "    end = num\n",
    "    while abs(result ** 2 - num) >= 1e-15:\n",
    "        if result **2 < num:   # result 2 \n",
    "            start = (result+start)/2\n",
    "            result = (result+end)/2\n",
    "\n",
    "        else:\n",
    "            end = (result +end)/2\n",
    "            result = (start+result)/2 # result 1.5\n",
    "        print(result)"
   ]
  },
  {
   "cell_type": "code",
   "execution_count": 100,
   "metadata": {},
   "outputs": [
    {
     "name": "stdout",
     "output_type": "stream",
     "text": [
      "1.5\n",
      "1.25\n",
      "1.5\n",
      "1.3125\n",
      "1.46875\n",
      "1.34375\n",
      "1.4453125\n",
      "1.36328125\n",
      "1.4296875\n",
      "1.3759765625\n",
      "1.41943359375\n",
      "1.38427734375\n",
      "1.4127197265625\n",
      "1.42694091796875\n",
      "1.4083251953125\n",
      "1.4211883544921875\n",
      "1.4101028442382812\n",
      "1.4188613891601562\n",
      "1.4117107391357422\n",
      "1.417475700378418\n",
      "1.4128055572509766\n",
      "1.4165818691253662\n",
      "1.413526177406311\n",
      "1.415998101234436\n",
      "1.4139982163906097\n",
      "1.4156161397695541\n",
      "1.4143072068691254\n",
      "1.413652740418911\n",
      "1.4145094472914934\n",
      "1.4139174772426486\n",
      "1.4144276389852166\n",
      "1.4140245656017214\n",
      "1.414353642729111\n",
      "1.4140883358195424\n",
      "1.4143032585561741\n",
      "1.414129470460466\n",
      "1.414270095192478\n",
      "1.414156335802545\n",
      "1.4142483716805145\n",
      "1.4141739138940466\n",
      "1.414234151756773\n",
      "1.4141854183787927\n",
      "1.4142248445334644\n",
      "1.4141929481116335\n",
      "1.414218752861217\n",
      "1.4141978763809675\n",
      "1.414214765808488\n",
      "1.4142011019746654\n",
      "1.4142121562484569\n",
      "1.4142176833853526\n",
      "1.414210448269229\n",
      "1.4142154476115147\n",
      "1.414211139161341\n",
      "1.4142145432219992\n",
      "1.4142117640791267\n",
      "1.4142140046657277\n",
      "1.414212189586709\n",
      "1.4142136572728685\n",
      "1.414212469660034\n",
      "1.4142134303879912\n",
      "1.4142139107519698\n",
      "1.4142132819363868\n",
      "1.414213716435173\n",
      "1.4142133419818843\n",
      "1.414213637833225\n",
      "1.4142133962942325\n",
      "1.4142135910265639\n",
      "1.41421343327565\n",
      "1.41421356083419\n",
      "1.4142136246134598\n",
      "1.4142135411153256\n",
      "1.4142135988092102\n",
      "1.4142135490877343\n",
      "1.4142135883719433\n",
      "1.4142135562994698\n",
      "1.414213582156759\n",
      "1.414213561209996\n",
      "1.4142135781476997\n",
      "1.4142135644421572\n",
      "1.414213557589386\n",
      "1.4142135665593702\n",
      "1.4142135603611852\n",
      "1.4142135657027737\n",
      "1.4142135614824332\n",
      "1.4142135649280005\n",
      "1.4142135621501317\n",
      "1.414213564400458\n",
      "1.4142135625808276\n",
      "1.4142135616710125\n",
      "1.4142135628621184\n",
      "1.4142135620391116\n",
      "1.4142135627483916\n",
      "1.4142135621879999\n",
      "1.4142135626455157\n",
      "1.4142135622766598\n",
      "1.4142135625754668\n",
      "1.4142135623338494\n",
      "1.4142135625293597\n",
      "1.4142135623712002\n",
      "1.4142135624991576\n",
      "1.4142135623956391\n",
      "1.4142135623438798\n",
      "1.4142135624116339\n",
      "1.414213562364817\n",
      "1.414213562405164\n",
      "1.4142135623732863\n",
      "1.4142135623573475\n",
      "1.4142135623783296\n",
      "1.4142135623638539\n",
      "1.4142135623763372\n",
      "1.4142135623664767\n",
      "1.4142135623745278\n",
      "1.4142135623680372\n",
      "1.4142135623732952\n",
      "1.4142135623690435\n",
      "1.4142135623724839\n",
      "1.414213562374204\n",
      "1.4142135623719523\n",
      "1.4142135623735081\n",
      "1.4142135623721672\n",
      "1.4142135623732266\n",
      "1.4142135623723617\n",
      "1.414213562373059\n",
      "1.4142135623734076\n",
      "1.4142135623729508\n",
      "1.4142135623732663\n",
      "1.4142135623729943\n",
      "1.414213562373209\n",
      "1.4142135623730336\n",
      "1.414213562373175\n",
      "1.4142135623730605\n",
      "1.414213562373153\n",
      "1.414213562373078\n",
      "1.4142135623731389\n",
      "1.4142135623730898\n",
      "1.4142135623731296\n",
      "1.4142135623730974\n",
      "1.4142135623730812\n",
      "1.4142135623731023\n",
      "1.4142135623730878\n",
      "1.4142135623731003\n",
      "1.4142135623730905\n",
      "1.4142135623730985\n",
      "1.414213562373092\n",
      "1.4142135623730971\n",
      "1.414213562373093\n",
      "1.4142135623730963\n",
      "1.4142135623730936\n",
      "1.4142135623730958\n",
      "1.414213562373094\n",
      "1.4142135623730954\n"
     ]
    }
   ],
   "source": [
    "root(2)"
   ]
  },
  {
   "cell_type": "code",
   "execution_count": 96,
   "metadata": {},
   "outputs": [
    {
     "data": {
      "text/plain": [
       "3.141592653589793"
      ]
     },
     "execution_count": 96,
     "metadata": {},
     "output_type": "execute_result"
    }
   ],
   "source": [
    "3.141592653589793238462643383"
   ]
  },
  {
   "cell_type": "code",
   "execution_count": 4,
   "metadata": {},
   "outputs": [
    {
     "ename": "ModuleNotFoundError",
     "evalue": "No module named 'mat'",
     "output_type": "error",
     "traceback": [
      "\u001b[1;31m---------------------------------------------------------------------------\u001b[0m",
      "\u001b[1;31mModuleNotFoundError\u001b[0m                       Traceback (most recent call last)",
      "\u001b[1;32m<ipython-input-4-a31c62016564>\u001b[0m in \u001b[0;36m<module>\u001b[1;34m\u001b[0m\n\u001b[1;32m----> 1\u001b[1;33m \u001b[1;32mimport\u001b[0m \u001b[0mmat\u001b[0m\u001b[1;33m\u001b[0m\u001b[1;33m\u001b[0m\u001b[0m\n\u001b[0m\u001b[0;32m      2\u001b[0m \u001b[0mmath\u001b[0m\u001b[1;33m.\u001b[0m\u001b[0mpi\u001b[0m\u001b[1;33m\u001b[0m\u001b[1;33m\u001b[0m\u001b[0m\n",
      "\u001b[1;31mModuleNotFoundError\u001b[0m: No module named 'mat'"
     ]
    }
   ],
   "source": [
    "import mat\n",
    "math.pi"
   ]
  },
  {
   "cell_type": "code",
   "execution_count": 102,
   "metadata": {},
   "outputs": [
    {
     "ename": "AttributeError",
     "evalue": "module 'math' has no attribute 'root'",
     "output_type": "error",
     "traceback": [
      "\u001b[1;31m---------------------------------------------------------------------------\u001b[0m",
      "\u001b[1;31mAttributeError\u001b[0m                            Traceback (most recent call last)",
      "\u001b[1;32m<ipython-input-102-d8341ecda2fb>\u001b[0m in \u001b[0;36m<module>\u001b[1;34m\u001b[0m\n\u001b[1;32m----> 1\u001b[1;33m \u001b[0mmath\u001b[0m\u001b[1;33m.\u001b[0m\u001b[0mroot\u001b[0m\u001b[1;33m(\u001b[0m\u001b[1;36m2\u001b[0m\u001b[1;33m)\u001b[0m\u001b[1;33m\u001b[0m\u001b[1;33m\u001b[0m\u001b[0m\n\u001b[0m",
      "\u001b[1;31mAttributeError\u001b[0m: module 'math' has no attribute 'root'"
     ]
    }
   ],
   "source": [
    "math.root(2)"
   ]
  },
  {
   "cell_type": "code",
   "execution_count": 1,
   "metadata": {},
   "outputs": [
    {
     "ename": "NameError",
     "evalue": "name 'a' is not defined",
     "output_type": "error",
     "traceback": [
      "\u001b[1;31m---------------------------------------------------------------------------\u001b[0m",
      "\u001b[1;31mNameError\u001b[0m                                 Traceback (most recent call last)",
      "\u001b[1;32m<ipython-input-1-bca0e2660b9f>\u001b[0m in \u001b[0;36m<module>\u001b[1;34m\u001b[0m\n\u001b[1;32m----> 1\u001b[1;33m \u001b[0mprint\u001b[0m\u001b[1;33m(\u001b[0m\u001b[0ma\u001b[0m\u001b[1;33m)\u001b[0m\u001b[1;33m\u001b[0m\u001b[1;33m\u001b[0m\u001b[0m\n\u001b[0m",
      "\u001b[1;31mNameError\u001b[0m: name 'a' is not defined"
     ]
    }
   ],
   "source": [
    "print(a)\n"
   ]
  },
  {
   "cell_type": "code",
   "execution_count": 2,
   "metadata": {},
   "outputs": [
    {
     "ename": "TypeError",
     "evalue": "unsupported operand type(s) for /: 'int' and 'str'",
     "output_type": "error",
     "traceback": [
      "\u001b[1;31m---------------------------------------------------------------------------\u001b[0m",
      "\u001b[1;31mTypeError\u001b[0m                                 Traceback (most recent call last)",
      "\u001b[1;32m<ipython-input-2-94d2f2683b5d>\u001b[0m in \u001b[0;36m<module>\u001b[1;34m\u001b[0m\n\u001b[1;32m----> 1\u001b[1;33m \u001b[1;36m3\u001b[0m \u001b[1;33m/\u001b[0m \u001b[1;34m'i'\u001b[0m\u001b[1;33m\u001b[0m\u001b[1;33m\u001b[0m\u001b[0m\n\u001b[0m",
      "\u001b[1;31mTypeError\u001b[0m: unsupported operand type(s) for /: 'int' and 'str'"
     ]
    }
   ],
   "source": [
    "3 / 'i'"
   ]
  },
  {
   "cell_type": "code",
   "execution_count": 3,
   "metadata": {},
   "outputs": [
    {
     "ename": "IndexError",
     "evalue": "list index out of range",
     "output_type": "error",
     "traceback": [
      "\u001b[1;31m---------------------------------------------------------------------------\u001b[0m",
      "\u001b[1;31mIndexError\u001b[0m                                Traceback (most recent call last)",
      "\u001b[1;32m<ipython-input-3-a9bce86eba7c>\u001b[0m in \u001b[0;36m<module>\u001b[1;34m\u001b[0m\n\u001b[0;32m      1\u001b[0m \u001b[0ma\u001b[0m \u001b[1;33m=\u001b[0m \u001b[1;33m[\u001b[0m\u001b[1;36m1\u001b[0m\u001b[1;33m,\u001b[0m\u001b[1;36m2\u001b[0m\u001b[1;33m]\u001b[0m\u001b[1;33m\u001b[0m\u001b[1;33m\u001b[0m\u001b[0m\n\u001b[1;32m----> 2\u001b[1;33m \u001b[0ma\u001b[0m\u001b[1;33m[\u001b[0m\u001b[1;36m3\u001b[0m\u001b[1;33m]\u001b[0m\u001b[1;33m\u001b[0m\u001b[1;33m\u001b[0m\u001b[0m\n\u001b[0m",
      "\u001b[1;31mIndexError\u001b[0m: list index out of range"
     ]
    }
   ],
   "source": [
    "a = [1,2]\n",
    "a[3]"
   ]
  },
  {
   "cell_type": "code",
   "execution_count": null,
   "metadata": {},
   "outputs": [],
   "source": []
  }
 ],
 "metadata": {
  "kernelspec": {
   "display_name": "Python 3",
   "language": "python",
   "name": "python3"
  },
  "language_info": {
   "codemirror_mode": {
    "name": "ipython",
    "version": 3
   },
   "file_extension": ".py",
   "mimetype": "text/x-python",
   "name": "python",
   "nbconvert_exporter": "python",
   "pygments_lexer": "ipython3",
   "version": "3.7.3"
  },
  "toc": {
   "base_numbering": 1,
   "nav_menu": {},
   "number_sections": true,
   "sideBar": true,
   "skip_h1_title": false,
   "title_cell": "Table of Contents",
   "title_sidebar": "Contents",
   "toc_cell": false,
   "toc_position": {},
   "toc_section_display": true,
   "toc_window_display": false
  }
 },
 "nbformat": 4,
 "nbformat_minor": 2
}
